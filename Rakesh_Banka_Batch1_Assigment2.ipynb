{
  "nbformat": 4,
  "nbformat_minor": 0,
  "metadata": {
    "colab": {
      "name": "Rakesh_Banka_Batch1_Assigment2.ipynb",
      "version": "0.3.2",
      "views": {},
      "default_view": {},
      "provenance": []
    },
    "kernelspec": {
      "name": "python3",
      "display_name": "Python 3"
    }
  },
  "cells": [
    {
      "metadata": {
        "id": "wjSJ-37b-Cv9",
        "colab_type": "text"
      },
      "cell_type": "markdown",
      "source": [
        "#step0 input and output init"
      ]
    },
    {
      "metadata": {
        "id": "SC54Efe59gT5",
        "colab_type": "code",
        "colab": {
          "autoexec": {
            "startup": false,
            "wait_interval": 0
          },
          "base_uri": "https://localhost:8080/",
          "height": 156
        },
        "outputId": "da9a7e30-5363-4deb-d817-6e10dfc6f416",
        "executionInfo": {
          "status": "ok",
          "timestamp": 1528286413169,
          "user_tz": -330,
          "elapsed": 1251,
          "user": {
            "displayName": "Rakesh Banka",
            "photoUrl": "//lh3.googleusercontent.com/-pyfL5tDkeP8/AAAAAAAAAAI/AAAAAAAAEfc/hCUFWshlHB8/s50-c-k-no/photo.jpg",
            "userId": "114692068667851608812"
          }
        }
      },
      "cell_type": "code",
      "source": [
        "import numpy as np\n",
        "x = [1,0,1,0,1,0,1,1,0,1,0,1]\n",
        "x = np.array(x)\n",
        "#reshapes the input array in 3 rows and four columns\n",
        "X=x.reshape(3,4)\n",
        "print(\"Input X\")\n",
        "print(X)\n",
        "\n",
        "y=[1,1,0]\n",
        "y=np.array(y)\n",
        "Y=y.reshape(3,1)\n",
        "print(\"Output Y\")\n",
        "print(Y)"
      ],
      "execution_count": 1,
      "outputs": [
        {
          "output_type": "stream",
          "text": [
            "Input X\n",
            "[[1 0 1 0]\n",
            " [1 0 1 1]\n",
            " [0 1 0 1]]\n",
            "Output Y\n",
            "[[1]\n",
            " [1]\n",
            " [0]]\n"
          ],
          "name": "stdout"
        }
      ]
    },
    {
      "metadata": {
        "id": "WV1xSGGi-N-a",
        "colab_type": "text"
      },
      "cell_type": "markdown",
      "source": [
        "Step 1: . Weights generation"
      ]
    },
    {
      "metadata": {
        "id": "7ddk7IdO-NER",
        "colab_type": "code",
        "colab": {
          "autoexec": {
            "startup": false,
            "wait_interval": 0
          },
          "base_uri": "https://localhost:8080/",
          "height": 243
        },
        "outputId": "ac3a1518-82af-431f-f3c8-1c407fd2cb1f",
        "executionInfo": {
          "status": "ok",
          "timestamp": 1528286491047,
          "user_tz": -330,
          "elapsed": 1053,
          "user": {
            "displayName": "Rakesh Banka",
            "photoUrl": "//lh3.googleusercontent.com/-pyfL5tDkeP8/AAAAAAAAAAI/AAAAAAAAEfc/hCUFWshlHB8/s50-c-k-no/photo.jpg",
            "userId": "114692068667851608812"
          }
        }
      },
      "cell_type": "code",
      "source": [
        "## get the random weights as 4*3 matrix\n",
        "wh = np.around(np.random.rand(4,3),decimals=2)\n",
        "print(\"WH matrix 4*3\")\n",
        "print(wh)\n",
        "bh = np.around(np.random.rand(1,3),decimals=2)\n",
        "print(\"BH matrix\")\n",
        "print(bh)\n",
        "wout = np.around(np.random.rand(3,1),decimals=2)\n",
        "print(\"wout matrix\")\n",
        "print(wout)\n",
        "bout = np.around(np.random.rand(1,1),decimals=2)\n",
        "print(\"bout matrix\")\n",
        "print(bout)\n",
        "\n",
        "## hidden layer input matrix init\n",
        "hidden_layer_input = np.around(np.zeros((3,3)),decimals=2)\n",
        "## hidden layer activation matrox init\n",
        "hidden_layer_activations = np.around(np.zeros((3,3)),decimals=2)\n",
        "\n",
        "## output matrix init\n",
        "output = np.around(np.zeros((3,1)),decimals=2)\n",
        "## Error E matrix init\n",
        "E = np.around(np.zeros((3,1)),decimals=2)\n"
      ],
      "execution_count": 2,
      "outputs": [
        {
          "output_type": "stream",
          "text": [
            "WH matrix 4*3\n",
            "[[0.15 0.37 0.25]\n",
            " [0.28 0.76 0.77]\n",
            " [0.99 0.26 0.66]\n",
            " [0.34 0.45 0.2 ]]\n",
            "BH matrix\n",
            "[[0.43 0.73 0.83]]\n",
            "wout matrix\n",
            "[[0.07]\n",
            " [0.76]\n",
            " [0.78]]\n",
            "bout matrix\n",
            "[[0.77]]\n"
          ],
          "name": "stdout"
        }
      ]
    },
    {
      "metadata": {
        "id": "3qltQnTB-Vqj",
        "colab_type": "text"
      },
      "cell_type": "markdown",
      "source": [
        "Step 2: Calculate hidden layer input"
      ]
    },
    {
      "metadata": {
        "id": "-wDz3BTn-VIy",
        "colab_type": "code",
        "colab": {
          "autoexec": {
            "startup": false,
            "wait_interval": 0
          },
          "base_uri": "https://localhost:8080/",
          "height": 69
        },
        "outputId": "50a88205-3ed6-4654-9d33-05cb6df0bf2d",
        "executionInfo": {
          "status": "ok",
          "timestamp": 1528286535227,
          "user_tz": -330,
          "elapsed": 755,
          "user": {
            "displayName": "Rakesh Banka",
            "photoUrl": "//lh3.googleusercontent.com/-pyfL5tDkeP8/AAAAAAAAAAI/AAAAAAAAEfc/hCUFWshlHB8/s50-c-k-no/photo.jpg",
            "userId": "114692068667851608812"
          }
        }
      },
      "cell_type": "code",
      "source": [
        "hidden_layer_input = X.dot(wh) + bh\n",
        "print(hidden_layer_input)"
      ],
      "execution_count": 3,
      "outputs": [
        {
          "output_type": "stream",
          "text": [
            "[[1.57 1.36 1.74]\n",
            " [1.91 1.81 1.94]\n",
            " [1.05 1.94 1.8 ]]\n"
          ],
          "name": "stdout"
        }
      ]
    },
    {
      "metadata": {
        "id": "a7C9k6E--fSc",
        "colab_type": "text"
      },
      "cell_type": "markdown",
      "source": [
        "step 3: calculate hidden layer activations\n"
      ]
    },
    {
      "metadata": {
        "id": "ZE7pFDkp-iUh",
        "colab_type": "code",
        "colab": {
          "autoexec": {
            "startup": false,
            "wait_interval": 0
          },
          "base_uri": "https://localhost:8080/",
          "height": 69
        },
        "outputId": "0cb92630-0edf-48f5-f140-8dbc8282dc79",
        "executionInfo": {
          "status": "ok",
          "timestamp": 1528286569140,
          "user_tz": -330,
          "elapsed": 1149,
          "user": {
            "displayName": "Rakesh Banka",
            "photoUrl": "//lh3.googleusercontent.com/-pyfL5tDkeP8/AAAAAAAAAAI/AAAAAAAAEfc/hCUFWshlHB8/s50-c-k-no/photo.jpg",
            "userId": "114692068667851608812"
          }
        }
      },
      "cell_type": "code",
      "source": [
        "def sigmoid(hypoth):\n",
        "    sig = 1/(1+np.exp(-1.0 * hypoth))\n",
        "    return np.around(sig,decimals=2)\n",
        "\n",
        "hidden_layer_activations=sigmoid(hidden_layer_input)\n",
        "print(hidden_layer_activations)"
      ],
      "execution_count": 4,
      "outputs": [
        {
          "output_type": "stream",
          "text": [
            "[[0.83 0.8  0.85]\n",
            " [0.87 0.86 0.87]\n",
            " [0.74 0.87 0.86]]\n"
          ],
          "name": "stdout"
        }
      ]
    },
    {
      "metadata": {
        "id": "wqvpz7v--ojb",
        "colab_type": "text"
      },
      "cell_type": "markdown",
      "source": [
        "step 4 : Perform linear and non-linear transformation of hidden layer activation at output layer"
      ]
    },
    {
      "metadata": {
        "id": "EgWdGu8e-srL",
        "colab_type": "code",
        "colab": {
          "autoexec": {
            "startup": false,
            "wait_interval": 0
          },
          "base_uri": "https://localhost:8080/",
          "height": 69
        },
        "outputId": "7c72f0db-969a-4583-a8a2-8ccebf218504",
        "executionInfo": {
          "status": "ok",
          "timestamp": 1528286613443,
          "user_tz": -330,
          "elapsed": 1326,
          "user": {
            "displayName": "Rakesh Banka",
            "photoUrl": "//lh3.googleusercontent.com/-pyfL5tDkeP8/AAAAAAAAAAI/AAAAAAAAEfc/hCUFWshlHB8/s50-c-k-no/photo.jpg",
            "userId": "114692068667851608812"
          }
        }
      },
      "cell_type": "code",
      "source": [
        "output_layer_hidden = hidden_layer_activations.dot(wout) + bout\n",
        "\n",
        "output = sigmoid(output_layer_hidden)\n",
        "print(output)"
      ],
      "execution_count": 5,
      "outputs": [
        {
          "output_type": "stream",
          "text": [
            "[[0.89]\n",
            " [0.9 ]\n",
            " [0.9 ]]\n"
          ],
          "name": "stdout"
        }
      ]
    },
    {
      "metadata": {
        "id": "gkOeXmgD-yfx",
        "colab_type": "text"
      },
      "cell_type": "markdown",
      "source": [
        ""
      ]
    },
    {
      "metadata": {
        "id": "pNQFOCoF-0ks",
        "colab_type": "code",
        "colab": {
          "autoexec": {
            "startup": false,
            "wait_interval": 0
          },
          "base_uri": "https://localhost:8080/",
          "height": 69
        },
        "outputId": "6d647065-7ab0-48c9-d2e1-dcf80a2a23c2",
        "executionInfo": {
          "status": "ok",
          "timestamp": 1528286632355,
          "user_tz": -330,
          "elapsed": 1026,
          "user": {
            "displayName": "Rakesh Banka",
            "photoUrl": "//lh3.googleusercontent.com/-pyfL5tDkeP8/AAAAAAAAAAI/AAAAAAAAEfc/hCUFWshlHB8/s50-c-k-no/photo.jpg",
            "userId": "114692068667851608812"
          }
        }
      },
      "cell_type": "code",
      "source": [
        "E = Y-output\n",
        "print(E)"
      ],
      "execution_count": 6,
      "outputs": [
        {
          "output_type": "stream",
          "text": [
            "[[ 0.11]\n",
            " [ 0.1 ]\n",
            " [-0.9 ]]\n"
          ],
          "name": "stdout"
        }
      ]
    }
  ]
}