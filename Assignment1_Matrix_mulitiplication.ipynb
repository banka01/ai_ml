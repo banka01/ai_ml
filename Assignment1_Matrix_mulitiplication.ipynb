{
  "nbformat": 4,
  "nbformat_minor": 0,
  "metadata": {
    "colab": {
      "name": "Assignment1_Matrix_mulitiplication.ipynb",
      "version": "0.3.2",
      "provenance": [],
      "collapsed_sections": []
    },
    "kernelspec": {
      "name": "python3",
      "display_name": "Python 3"
    }
  },
  "cells": [
    {
      "cell_type": "markdown",
      "metadata": {
        "id": "view-in-github",
        "colab_type": "text"
      },
      "source": [
        "[View in Colaboratory](https://colab.research.google.com/github/banka01/ai_ml/blob/master/Assignment1_Matrix_mulitiplication.ipynb)"
      ]
    },
    {
      "metadata": {
        "id": "ZOc-JZxLbdbR",
        "colab_type": "code",
        "colab": {}
      },
      "cell_type": "code",
      "source": [
        ""
      ],
      "execution_count": 0,
      "outputs": []
    },
    {
      "metadata": {
        "id": "o9JbAZfDbg-4",
        "colab_type": "text"
      },
      "cell_type": "markdown",
      "source": [
        "Matrix Multiplication. using normal list.\n"
      ]
    },
    {
      "metadata": {
        "id": "W-VNsj5Ibqyo",
        "colab_type": "code",
        "colab": {
          "base_uri": "https://localhost:8080/",
          "height": 537
        },
        "outputId": "cec6841e-3540-4909-ca9c-7df54dbc97ae"
      },
      "cell_type": "code",
      "source": [
        "import sys\n",
        "r1=int(input('enter rows for M1:'))\n",
        "c1=int(input('enter cols for M1:'))\n",
        "r2=int(input('enter rows for M2:'))\n",
        "c2=int(input('enter cols for M2:'))\n",
        "if (c1==r2 ) is False:\n",
        "    print(\"Matrix Multiplication is not possible\")\n",
        "    sys.exit(0)\n",
        "    \n",
        "\n",
        "mat1 = [[0 for j in range(c1)] for i in range(r1)]\n",
        "mat2 = [[0 for j in range(c2)] for i in range(r2)]\n",
        "result_matrix = [[0 for j in range(c2)] for i in range(r1)]\n",
        "print('Enter elements for matrix1')\n",
        "for i in range(r1):\n",
        "    for j in range(c1):\n",
        "        mat1[i][j]=int(input())\n",
        "\n",
        "print('Enter elements for matrix2')\n",
        "for i in range(r2):\n",
        "    for j in range(c2):\n",
        "        mat2[i][j]=int(input())\n",
        "        \n",
        "## logic for matrix multiplication.\n",
        "## for each row of mat1:\n",
        "for i in range(r1):\n",
        "    # for each column of mat2:\n",
        "    for j in range(c2):\n",
        "        # for each row of mat 2:\n",
        "        for k in range(r2):\n",
        "            result_matrix[i][j] += mat1[i][k] * mat2[k][j]\n",
        "print(\"Elements of Matrix1\")\n",
        "for r in mat1:\n",
        "    print(r)\n",
        "print('-'*10)\n",
        "print(\"Elements of Matrix1\")\n",
        "for r in mat2:\n",
        "    print(r)\n",
        "print('-'*10)\n",
        "print(\"Elements of Results Matrix\")\n",
        "for r in result_matrix:\n",
        "    print(r)"
      ],
      "execution_count": 5,
      "outputs": [
        {
          "output_type": "stream",
          "text": [
            "enter rows for M1:2\n",
            "enter cols for M1:3\n",
            "enter rows for M2:3\n",
            "enter cols for M2:2\n",
            "Enter elements for matrix1\n",
            "1\n",
            "2\n",
            "3\n",
            "4\n",
            "5\n",
            "6\n",
            "Enter elements for matrix2\n",
            "1\n",
            "2\n",
            "3\n",
            "4\n",
            "5\n",
            "6\n",
            "Elements of Matrix1\n",
            "[1, 2, 3]\n",
            "[4, 5, 6]\n",
            "----------\n",
            "Elements of Matrix1\n",
            "[1, 2]\n",
            "[3, 4]\n",
            "[5, 6]\n",
            "----------\n",
            "Elements of Results Matrix\n",
            "[22, 28]\n",
            "[49, 64]\n"
          ],
          "name": "stdout"
        }
      ]
    },
    {
      "metadata": {
        "id": "YlXGeYYAlg3G",
        "colab_type": "text"
      },
      "cell_type": "markdown",
      "source": [
        "**Matrix multiplication using numpy**"
      ]
    },
    {
      "metadata": {
        "id": "FJePBRItoX27",
        "colab_type": "code",
        "colab": {
          "base_uri": "https://localhost:8080/",
          "height": 191
        },
        "outputId": "53872f57-774d-4d26-a249-e468d8ccd45c"
      },
      "cell_type": "code",
      "source": [
        "import numpy as np\n",
        "import sys\n",
        "\n",
        "# get the rows and cols for MatrixA\n",
        "r1=int(input('enter rows for M1:')) \n",
        "c1=int(input('enter cols for M1:'))\n",
        "# get the rows and cols for MatrixB\n",
        "r2=int(input('enter rows for M2:'))\n",
        "c2=int(input('enter cols for M2:'))\n",
        "\n",
        "# check if Matrix multiply is possible\n",
        "if (c1==r2 ) is False:\n",
        "    print(\"Matrix Multiplication is not possible\")\n",
        "    sys.exit(0)\n",
        "    \n",
        "## generate random matrix A for r1,c1 dimension\n",
        "m1 = np.random.randint(0,1000,(r1,c1))\n",
        "## generate random matrix B for r2,c2 dimension\n",
        "m2 = np.random.randint(0,1000,(r2,c2))\n",
        "\n",
        "\n",
        "## result matrix containing all zeros\n",
        "result_matrix= np.zeros((r1,c2))\n",
        "## matrix mulitplilcation\n",
        "result_matrix = m1.dot(m2)\n",
        "## print for all matrix\n",
        "print(m1)\n",
        "print(m2)\n",
        "print(result_matrix)"
      ],
      "execution_count": 8,
      "outputs": [
        {
          "output_type": "stream",
          "text": [
            "enter rows for M1:2\n",
            "enter cols for M1:2\n",
            "enter rows for M2:2\n",
            "enter cols for M2:2\n",
            "[[36 28]\n",
            " [41 56]]\n",
            "[[36 32]\n",
            " [ 1 26]]\n",
            "[[1324 1880]\n",
            " [1532 2768]]\n"
          ],
          "name": "stdout"
        }
      ]
    },
    {
      "metadata": {
        "id": "C3xYp_orud3x",
        "colab_type": "text"
      },
      "cell_type": "markdown",
      "source": [
        "**Function for the fibonacci nos using recursion**"
      ]
    },
    {
      "metadata": {
        "id": "rWZgB0gTuk2l",
        "colab_type": "code",
        "colab": {
          "base_uri": "https://localhost:8080/",
          "height": 208
        },
        "outputId": "f951dd41-715f-4d63-cc5d-722b80d0cd6f"
      },
      "cell_type": "code",
      "source": [
        "def fib_ns(n):\n",
        "  if n<=1:\n",
        "    return n\n",
        "  else:\n",
        "    return(fib_ns(n-1)+fib_ns(n-2))\n",
        "nos= int(input('enter count of fibonacci nos required'))\n",
        "for i in range(nos):\n",
        "  print(fib_ns(i))"
      ],
      "execution_count": 9,
      "outputs": [
        {
          "output_type": "stream",
          "text": [
            "enter count of fibonacci nos required10\n",
            "0\n",
            "1\n",
            "1\n",
            "2\n",
            "3\n",
            "5\n",
            "8\n",
            "13\n",
            "21\n",
            "34\n"
          ],
          "name": "stdout"
        }
      ]
    },
    {
      "metadata": {
        "id": "nleGXdH0vCg-",
        "colab_type": "text"
      },
      "cell_type": "markdown",
      "source": [
        "**Reverse a List**"
      ]
    },
    {
      "metadata": {
        "id": "UO94D8I4vItq",
        "colab_type": "code",
        "colab": {
          "base_uri": "https://localhost:8080/",
          "height": 52
        },
        "outputId": "30274d29-c65b-409d-d4a5-705caba8308f"
      },
      "cell_type": "code",
      "source": [
        "values=[1,2,3,'ai','ml']\n",
        "values.reverse()\n",
        "print(values)\n",
        "print(values[::-1])"
      ],
      "execution_count": 11,
      "outputs": [
        {
          "output_type": "stream",
          "text": [
            "['ml', 'ai', 3, 2, 1]\n",
            "[1, 2, 3, 'ai', 'ml']\n"
          ],
          "name": "stdout"
        }
      ]
    }
  ]
}